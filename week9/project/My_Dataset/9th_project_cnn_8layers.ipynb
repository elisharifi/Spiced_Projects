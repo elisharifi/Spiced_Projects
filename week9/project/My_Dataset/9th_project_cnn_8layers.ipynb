{
 "cells": [
  {
   "cell_type": "markdown",
   "id": "fdbfbae9",
   "metadata": {
    "heading_collapsed": true
   },
   "source": [
    "# Loading Images, Converting to Arrays and Splitting"
   ]
  },
  {
   "cell_type": "code",
   "execution_count": 2,
   "id": "106015e8",
   "metadata": {
    "hidden": true
   },
   "outputs": [],
   "source": [
    "import numpy as np\n",
    "import pandas as pd\n",
    "import tensorflow as tf\n",
    "import os\n",
    "\n",
    "from tensorflow.keras.preprocessing.image import load_img\n",
    "from numpy import asarray\n",
    "from tensorflow.keras.models import Sequential\n",
    "from tensorflow.keras.layers import Dense, Activation\n",
    "from matplotlib import pyplot as plt\n",
    "from tensorflow.keras.layers import Conv2D\n",
    "from tensorflow.keras.layers import MaxPooling2D\n",
    "from tensorflow.keras.layers import Flatten\n",
    "from tensorflow.keras import models, layers\n",
    "from tensorflow.keras.utils import to_categorical\n",
    "from tensorflow.keras.optimizers import Adam\n",
    "\n",
    "# Regularization\n",
    "from tensorflow.keras.callbacks import EarlyStopping\n",
    "from tensorflow.keras.layers import BatchNormalization\n",
    "from tensorflow.keras.layers import Dropout\n",
    "\n"
   ]
  },
  {
   "cell_type": "code",
   "execution_count": 3,
   "id": "85ff4d32",
   "metadata": {
    "hidden": true
   },
   "outputs": [],
   "source": [
    "from tensorflow.keras import backend as K\n",
    "\n",
    "K.clear_session()"
   ]
  },
  {
   "cell_type": "code",
   "execution_count": 4,
   "id": "c71160c6",
   "metadata": {
    "hidden": true
   },
   "outputs": [],
   "source": [
    "X = []\n",
    "y = []\n",
    "classes = ['empty', 'bird', 'mug', 'sunglass']\n",
    "base_path = 'imageclassifier/data/'\n",
    "\n",
    "for i, target in enumerate(classes):\n",
    "      files = os.listdir(base_path+target)  #gets the list of all files and directories in the specified directory\n",
    "      for file in files:\n",
    "         # load the image\n",
    "         img = load_img(base_path+target+'/'+file)\n",
    "         # convert it to an array\n",
    "         img_array = asarray(img)\n",
    "         # append the array to X\n",
    "         X.append(img_array)\n",
    "         # append the numeric target to y\n",
    "         y.append(i)\n",
    "\n",
    "X = np.array(X)\n",
    "y = np.array(y)\n",
    "\n",
    "# shuffle the data\n",
    "shuffler = np.random.permutation(len(X))\n",
    "X = X[shuffler]\n",
    "y = y[shuffler]"
   ]
  },
  {
   "cell_type": "code",
   "execution_count": 4,
   "id": "2d418b0f",
   "metadata": {
    "hidden": true
   },
   "outputs": [
    {
     "data": {
      "text/plain": [
       "array([[[[164, 161, 153],\n",
       "         [164, 161, 153],\n",
       "         [165, 160, 151],\n",
       "         ...,\n",
       "         [175, 171, 168],\n",
       "         [174, 173, 166],\n",
       "         [175, 174, 167]],\n",
       "\n",
       "        [[165, 162, 154],\n",
       "         [165, 162, 154],\n",
       "         [167, 161, 152],\n",
       "         ...,\n",
       "         [174, 171, 165],\n",
       "         [174, 173, 166],\n",
       "         [175, 174, 167]],\n",
       "\n",
       "        [[166, 163, 153],\n",
       "         [167, 164, 154],\n",
       "         [167, 165, 152],\n",
       "         ...,\n",
       "         [175, 172, 164],\n",
       "         [177, 173, 165],\n",
       "         [177, 173, 165]],\n",
       "\n",
       "        ...,\n",
       "\n",
       "        [[165, 166, 163],\n",
       "         [168, 168, 166],\n",
       "         [165, 166, 161],\n",
       "         ...,\n",
       "         [ 77,  51,  44],\n",
       "         [ 70,  46,  40],\n",
       "         [ 63,  39,  33]],\n",
       "\n",
       "        [[168, 168, 164],\n",
       "         [168, 168, 164],\n",
       "         [168, 165, 159],\n",
       "         ...,\n",
       "         [ 76,  52,  44],\n",
       "         [ 70,  46,  38],\n",
       "         [ 62,  38,  30]],\n",
       "\n",
       "        [[166, 164, 162],\n",
       "         [166, 164, 162],\n",
       "         [167, 160, 158],\n",
       "         ...,\n",
       "         [ 75,  51,  43],\n",
       "         [ 68,  49,  39],\n",
       "         [ 61,  42,  32]]],\n",
       "\n",
       "\n",
       "       [[[162, 164, 152],\n",
       "         [163, 165, 153],\n",
       "         [165, 164, 153],\n",
       "         ...,\n",
       "         [175, 172, 164],\n",
       "         [175, 172, 166],\n",
       "         [175, 172, 166]],\n",
       "\n",
       "        [[162, 164, 152],\n",
       "         [163, 165, 153],\n",
       "         [165, 164, 155],\n",
       "         ...,\n",
       "         [175, 172, 164],\n",
       "         [175, 172, 164],\n",
       "         [177, 173, 165]],\n",
       "\n",
       "        [[163, 165, 153],\n",
       "         [163, 165, 153],\n",
       "         [166, 165, 154],\n",
       "         ...,\n",
       "         [176, 171, 161],\n",
       "         [177, 171, 164],\n",
       "         [177, 171, 164]],\n",
       "\n",
       "        ...,\n",
       "\n",
       "        [[161, 165, 168],\n",
       "         [161, 165, 168],\n",
       "         [164, 163, 170],\n",
       "         ...,\n",
       "         [ 32,  23,  24],\n",
       "         [141, 134, 125],\n",
       "         [155, 148, 139]],\n",
       "\n",
       "        [[164, 163, 168],\n",
       "         [164, 163, 168],\n",
       "         [163, 162, 169],\n",
       "         ...,\n",
       "         [ 49,  35,  40],\n",
       "         [154, 136, 133],\n",
       "         [166, 149, 146]],\n",
       "\n",
       "        [[164, 165, 169],\n",
       "         [163, 164, 168],\n",
       "         [163, 162, 167],\n",
       "         ...,\n",
       "         [ 62,  49,  54],\n",
       "         [152, 137, 133],\n",
       "         [166, 151, 147]]],\n",
       "\n",
       "\n",
       "       [[[162, 156, 149],\n",
       "         [162, 156, 149],\n",
       "         [162, 156, 149],\n",
       "         ...,\n",
       "         [169, 168, 162],\n",
       "         [169, 168, 162],\n",
       "         [170, 169, 163]],\n",
       "\n",
       "        [[161, 159, 148],\n",
       "         [161, 159, 148],\n",
       "         [161, 159, 148],\n",
       "         ...,\n",
       "         [169, 168, 162],\n",
       "         [169, 168, 164],\n",
       "         [169, 168, 164]],\n",
       "\n",
       "        [[161, 159, 146],\n",
       "         [161, 159, 146],\n",
       "         [160, 160, 144],\n",
       "         ...,\n",
       "         [174, 167, 165],\n",
       "         [172, 168, 165],\n",
       "         [172, 168, 165]],\n",
       "\n",
       "        ...,\n",
       "\n",
       "        [[148, 108, 115],\n",
       "         [145, 105, 112],\n",
       "         [138, 104, 104],\n",
       "         ...,\n",
       "         [137, 109, 102],\n",
       "         [146, 115, 107],\n",
       "         [150, 120, 112]],\n",
       "\n",
       "        [[147, 110, 113],\n",
       "         [142, 105, 108],\n",
       "         [137,  98,  99],\n",
       "         ...,\n",
       "         [136, 108, 108],\n",
       "         [147, 108, 108],\n",
       "         [154, 115, 115]],\n",
       "\n",
       "        [[146, 114, 111],\n",
       "         [136, 105, 102],\n",
       "         [133, 100,  97],\n",
       "         ...,\n",
       "         [137, 110, 105],\n",
       "         [144, 110, 106],\n",
       "         [151, 117, 113]]],\n",
       "\n",
       "\n",
       "       ...,\n",
       "\n",
       "\n",
       "       [[[160, 154, 147],\n",
       "         [160, 154, 147],\n",
       "         [161, 153, 147],\n",
       "         ...,\n",
       "         [174, 166, 162],\n",
       "         [174, 166, 162],\n",
       "         [174, 166, 162]],\n",
       "\n",
       "        [[161, 153, 149],\n",
       "         [161, 153, 149],\n",
       "         [163, 152, 151],\n",
       "         ...,\n",
       "         [174, 165, 164],\n",
       "         [174, 166, 162],\n",
       "         [174, 166, 162]],\n",
       "\n",
       "        [[164, 153, 152],\n",
       "         [164, 153, 152],\n",
       "         [164, 152, 156],\n",
       "         ...,\n",
       "         [174, 165, 164],\n",
       "         [174, 166, 162],\n",
       "         [174, 166, 162]],\n",
       "\n",
       "        ...,\n",
       "\n",
       "        [[162, 162, 160],\n",
       "         [161, 161, 159],\n",
       "         [161, 161, 161],\n",
       "         ...,\n",
       "         [155, 150, 149],\n",
       "         [158, 148, 149],\n",
       "         [160, 151, 152]],\n",
       "\n",
       "        [[162, 162, 162],\n",
       "         [161, 161, 161],\n",
       "         [158, 158, 160],\n",
       "         ...,\n",
       "         [158, 152, 152],\n",
       "         [162, 150, 152],\n",
       "         [163, 151, 153]],\n",
       "\n",
       "        [[161, 160, 163],\n",
       "         [158, 158, 160],\n",
       "         [158, 158, 160],\n",
       "         ...,\n",
       "         [158, 153, 157],\n",
       "         [161, 151, 157],\n",
       "         [161, 151, 157]]],\n",
       "\n",
       "\n",
       "       [[[159, 148, 147],\n",
       "         [159, 148, 147],\n",
       "         [158, 148, 149],\n",
       "         ...,\n",
       "         [170, 163, 163],\n",
       "         [170, 163, 163],\n",
       "         [170, 163, 163]],\n",
       "\n",
       "        [[158, 148, 149],\n",
       "         [158, 148, 149],\n",
       "         [156, 149, 151],\n",
       "         ...,\n",
       "         [168, 164, 161],\n",
       "         [171, 162, 160],\n",
       "         [171, 162, 160]],\n",
       "\n",
       "        [[158, 149, 147],\n",
       "         [158, 149, 147],\n",
       "         [156, 150, 147],\n",
       "         ...,\n",
       "         [172, 164, 155],\n",
       "         [173, 163, 155],\n",
       "         [176, 166, 158]],\n",
       "\n",
       "        ...,\n",
       "\n",
       "        [[160, 158, 156],\n",
       "         [162, 160, 159],\n",
       "         [162, 159, 163],\n",
       "         ...,\n",
       "         [155, 156, 149],\n",
       "         [156, 155, 151],\n",
       "         [156, 155, 151]],\n",
       "\n",
       "        [[158, 155, 158],\n",
       "         [158, 155, 158],\n",
       "         [159, 154, 160],\n",
       "         ...,\n",
       "         [155, 156, 151],\n",
       "         [155, 153, 152],\n",
       "         [153, 151, 149]],\n",
       "\n",
       "        [[154, 152, 160],\n",
       "         [154, 152, 160],\n",
       "         [154, 152, 162],\n",
       "         ...,\n",
       "         [158, 159, 154],\n",
       "         [160, 158, 156],\n",
       "         [158, 156, 154]]],\n",
       "\n",
       "\n",
       "       [[[155, 149, 144],\n",
       "         [156, 150, 145],\n",
       "         [156, 150, 143],\n",
       "         ...,\n",
       "         [166, 162, 159],\n",
       "         [165, 161, 156],\n",
       "         [166, 163, 157]],\n",
       "\n",
       "        [[155, 149, 144],\n",
       "         [155, 149, 144],\n",
       "         [156, 150, 145],\n",
       "         ...,\n",
       "         [167, 163, 160],\n",
       "         [167, 164, 158],\n",
       "         [167, 164, 158]],\n",
       "\n",
       "        [[153, 150, 140],\n",
       "         [155, 152, 141],\n",
       "         [158, 153, 146],\n",
       "         ...,\n",
       "         [166, 164, 158],\n",
       "         [164, 166, 156],\n",
       "         [164, 166, 156]],\n",
       "\n",
       "        ...,\n",
       "\n",
       "        [[157, 151, 158],\n",
       "         [157, 151, 158],\n",
       "         [157, 151, 158],\n",
       "         ...,\n",
       "         [  5,   0,   0],\n",
       "         [ 50,  43,  43],\n",
       "         [139, 132, 132]],\n",
       "\n",
       "        [[160, 152, 159],\n",
       "         [158, 150, 158],\n",
       "         [157, 152, 156],\n",
       "         ...,\n",
       "         [  5,   0,   0],\n",
       "         [ 77,  70,  70],\n",
       "         [140, 133, 133]],\n",
       "\n",
       "        [[157, 151, 160],\n",
       "         [155, 149, 157],\n",
       "         [152, 149, 154],\n",
       "         ...,\n",
       "         [ 10,   8,   6],\n",
       "         [105, 102, 106],\n",
       "         [141, 138, 142]]]], dtype=uint8)"
      ]
     },
     "execution_count": 4,
     "metadata": {},
     "output_type": "execute_result"
    }
   ],
   "source": [
    "X"
   ]
  },
  {
   "cell_type": "code",
   "execution_count": 5,
   "id": "6d1eacff",
   "metadata": {
    "hidden": true
   },
   "outputs": [
    {
     "data": {
      "text/plain": [
       "array([0, 2, 1, ..., 3, 3, 0])"
      ]
     },
     "execution_count": 5,
     "metadata": {},
     "output_type": "execute_result"
    }
   ],
   "source": [
    "y"
   ]
  },
  {
   "cell_type": "code",
   "execution_count": 6,
   "id": "ef5f4600",
   "metadata": {
    "hidden": true
   },
   "outputs": [
    {
     "data": {
      "image/png": "[encoded data removed]",
      "text/plain": [
       "<Figure size 432x288 with 25 Axes>"
      ]
     },
     "metadata": {
      "needs_background": "light"
     },
     "output_type": "display_data"
    }
   ],
   "source": [
    "for i in range(25):\n",
    "    plt.subplot(5, 5, i+1)\n",
    "    plt.imshow(X[i], cmap=plt.cm.Greys)\n",
    "    plt.axis('off')"
   ]
  },
  {
   "cell_type": "code",
   "execution_count": 7,
   "id": "bda075b7",
   "metadata": {
    "hidden": true
   },
   "outputs": [
    {
     "data": {
      "text/plain": [
       "((2155, 224, 224, 3), (2155,))"
      ]
     },
     "execution_count": 7,
     "metadata": {},
     "output_type": "execute_result"
    }
   ],
   "source": [
    "X.shape, y.shape"
   ]
  },
  {
   "cell_type": "code",
   "execution_count": 5,
   "id": "b2a55629",
   "metadata": {
    "hidden": true
   },
   "outputs": [],
   "source": [
    "#spliting the data\n",
    "xtrain = X[:1855,:,:,:]\n",
    "xtest = X[1855:,:,:,:]\n",
    "\n",
    "ytrain = y[:1855]\n",
    "ytest = y[1855:]"
   ]
  },
  {
   "cell_type": "code",
   "execution_count": 9,
   "id": "1306eb1b",
   "metadata": {
    "hidden": true
   },
   "outputs": [
    {
     "data": {
      "text/plain": [
       "((1855, 224, 224, 3), (300, 224, 224, 3))"
      ]
     },
     "execution_count": 9,
     "metadata": {},
     "output_type": "execute_result"
    }
   ],
   "source": [
    "xtrain.shape, xtest.shape"
   ]
  },
  {
   "cell_type": "code",
   "execution_count": 10,
   "id": "1179c1c4",
   "metadata": {
    "hidden": true
   },
   "outputs": [
    {
     "data": {
      "text/plain": [
       "(224, 224, 3)"
      ]
     },
     "execution_count": 10,
     "metadata": {},
     "output_type": "execute_result"
    }
   ],
   "source": [
    "xtrain[31].shape"
   ]
  },
  {
   "cell_type": "code",
   "execution_count": 6,
   "id": "aa607e37",
   "metadata": {
    "hidden": true
   },
   "outputs": [],
   "source": [
    "ytest_true = ytest.copy()"
   ]
  },
  {
   "cell_type": "markdown",
   "id": "745b7bf8",
   "metadata": {
    "heading_collapsed": true
   },
   "source": [
    "# Normalizing the data to help with the training (Scale these values to a range of 0 to 1)"
   ]
  },
  {
   "cell_type": "code",
   "execution_count": 7,
   "id": "3d9f1c29",
   "metadata": {
    "hidden": true
   },
   "outputs": [],
   "source": [
    "xtrain = xtrain / 255.0\n",
    "\n",
    "xtest = xtest / 255.0"
   ]
  },
  {
   "cell_type": "markdown",
   "id": "1707b7a1",
   "metadata": {
    "heading_collapsed": true
   },
   "source": [
    "# One-Hot-Encoding the labels"
   ]
  },
  {
   "cell_type": "code",
   "execution_count": 8,
   "id": "4a3fe0b1",
   "metadata": {
    "hidden": true
   },
   "outputs": [],
   "source": [
    "ytrain = to_categorical(ytrain)\n",
    "ytest = to_categorical(ytest)"
   ]
  },
  {
   "cell_type": "markdown",
   "id": "18453111",
   "metadata": {},
   "source": [
    "# Building a CNN with 8 Layers"
   ]
  },
  {
   "cell_type": "markdown",
   "id": "f4ce702d",
   "metadata": {},
   "source": [
    "## Defining the model"
   ]
  },
  {
   "cell_type": "code",
   "execution_count": 14,
   "id": "1a69d215",
   "metadata": {},
   "outputs": [],
   "source": [
    "from tensorflow.keras import backend as K\n",
    "K.clear_session()"
   ]
  },
  {
   "cell_type": "code",
   "execution_count": 15,
   "id": "5725f978",
   "metadata": {},
   "outputs": [],
   "source": [
    "model = Sequential([\n",
    "    \n",
    "    # first convolutional and max pooling layer\n",
    "    Conv2D(filters=6,\n",
    "          kernel_size=(5,5),\n",
    "          strides=(1, 1),\n",
    "          padding=\"valid\",\n",
    "          activation=\"relu\",\n",
    "          input_shape=(224, 224, 3)),\n",
    "    MaxPooling2D(pool_size=(2,2),\n",
    "                strides=(2, 2),\n",
    "                padding=\"valid\"),\n",
    "    #BatchNormalization(), # optional\n",
    "    \n",
    "    # Second convolutional and max pooling layer\n",
    "    Conv2D(filters=16,\n",
    "          kernel_size=(5,5),\n",
    "          strides=(1, 1),\n",
    "          padding=\"valid\",\n",
    "          activation=\"relu\"),\n",
    "    MaxPooling2D(pool_size=(2,2),\n",
    "                strides=(2,2),\n",
    "                padding=\"valid\"),\n",
    "    #BatchNormalization(), # optional\n",
    "    \n",
    "    # Flatten\n",
    "    Flatten(),\n",
    "    \n",
    "    # Fully connected\n",
    "    # layer 1\n",
    "    Dense(120, activation=\"relu\"),\n",
    "    #Dropout(0.2), # optional\n",
    "    \n",
    "    # layer 2\n",
    "    Dense(84, activation=\"relu\"),\n",
    "    #Dropout(0.2), # optional\n",
    "    \n",
    "    # Output layer\n",
    "    Dense(4, activation=\"softmax\")\n",
    "])"
   ]
  },
  {
   "cell_type": "code",
   "execution_count": 16,
   "id": "f67b809e",
   "metadata": {},
   "outputs": [
    {
     "name": "stdout",
     "output_type": "stream",
     "text": [
      "Model: \"sequential\"\n",
      "_________________________________________________________________\n",
      "Layer (type)                 Output Shape              Param #   \n",
      "=================================================================\n",
      "conv2d (Conv2D)              (None, 220, 220, 6)       456       \n",
      "_________________________________________________________________\n",
      "max_pooling2d (MaxPooling2D) (None, 110, 110, 6)       0         \n",
      "_________________________________________________________________\n",
      "conv2d_1 (Conv2D)            (None, 106, 106, 16)      2416      \n",
      "_________________________________________________________________\n",
      "max_pooling2d_1 (MaxPooling2 (None, 53, 53, 16)        0         \n",
      "_________________________________________________________________\n",
      "flatten (Flatten)            (None, 44944)             0         \n",
      "_________________________________________________________________\n",
      "dense (Dense)                (None, 120)               5393400   \n",
      "_________________________________________________________________\n",
      "dense_1 (Dense)              (None, 84)                10164     \n",
      "_________________________________________________________________\n",
      "dense_2 (Dense)              (None, 4)                 340       \n",
      "=================================================================\n",
      "Total params: 5,406,776\n",
      "Trainable params: 5,406,776\n",
      "Non-trainable params: 0\n",
      "_________________________________________________________________\n"
     ]
    }
   ],
   "source": [
    "model.summary()"
   ]
  },
  {
   "cell_type": "markdown",
   "id": "09500077",
   "metadata": {},
   "source": [
    "## Compile the model"
   ]
  },
  {
   "cell_type": "code",
   "execution_count": 17,
   "id": "5fd63d9a",
   "metadata": {},
   "outputs": [],
   "source": [
    "model.compile(optimizer=Adam(), \n",
    "              loss=\"categorical_crossentropy\", \n",
    "              metrics=[\"accuracy\"])"
   ]
  },
  {
   "cell_type": "markdown",
   "id": "ef793c6c",
   "metadata": {},
   "source": [
    "## Fit the model"
   ]
  },
  {
   "cell_type": "code",
   "execution_count": 18,
   "id": "63c40319",
   "metadata": {},
   "outputs": [
    {
     "name": "stdout",
     "output_type": "stream",
     "text": [
      "Epoch 1/10\n",
      "47/47 [==============================] - 58s 1s/step - loss: 1.2923 - accuracy: 0.5249 - val_loss: 0.5636 - val_accuracy: 0.7790\n",
      "Epoch 2/10\n",
      "47/47 [==============================] - 47s 1s/step - loss: 0.3354 - accuracy: 0.8861 - val_loss: 0.3169 - val_accuracy: 0.8733\n",
      "Epoch 3/10\n",
      "47/47 [==============================] - 48s 1s/step - loss: 0.1184 - accuracy: 0.9616 - val_loss: 0.2271 - val_accuracy: 0.9353\n",
      "Epoch 4/10\n",
      "47/47 [==============================] - 50s 1s/step - loss: 0.0571 - accuracy: 0.9838 - val_loss: 0.1967 - val_accuracy: 0.9353\n",
      "Epoch 5/10\n",
      "47/47 [==============================] - 47s 1s/step - loss: 0.0532 - accuracy: 0.9845 - val_loss: 0.1658 - val_accuracy: 0.9488\n",
      "Epoch 6/10\n",
      "47/47 [==============================] - 49s 1s/step - loss: 0.0106 - accuracy: 0.9993 - val_loss: 0.2101 - val_accuracy: 0.9218\n",
      "Epoch 7/10\n",
      "47/47 [==============================] - 48s 1s/step - loss: 0.0094 - accuracy: 0.9973 - val_loss: 0.2235 - val_accuracy: 0.9434\n",
      "Epoch 8/10\n",
      "47/47 [==============================] - 48s 1s/step - loss: 0.0043 - accuracy: 0.9993 - val_loss: 0.1971 - val_accuracy: 0.9461\n",
      "Epoch 9/10\n",
      "47/47 [==============================] - 47s 1s/step - loss: 0.0019 - accuracy: 1.0000 - val_loss: 0.1993 - val_accuracy: 0.9515\n",
      "Epoch 10/10\n",
      "47/47 [==============================] - 48s 1s/step - loss: 7.5871e-04 - accuracy: 1.0000 - val_loss: 0.1922 - val_accuracy: 0.9569\n"
     ]
    }
   ],
   "source": [
    "fit_history = model.fit(xtrain, ytrain, batch_size=32, epochs=10, validation_split=0.2)"
   ]
  },
  {
   "cell_type": "markdown",
   "id": "ce1fbff1",
   "metadata": {},
   "source": [
    "## Evaluate model"
   ]
  },
  {
   "cell_type": "code",
   "execution_count": 19,
   "id": "07e3f237",
   "metadata": {},
   "outputs": [
    {
     "name": "stderr",
     "output_type": "stream",
     "text": [
      "findfont: Font family ['monaco'] not found. Falling back to DejaVu Sans.\n",
      "findfont: Font family ['monaco'] not found. Falling back to DejaVu Sans.\n",
      "findfont: Font family ['monaco'] not found. Falling back to DejaVu Sans.\n"
     ]
    },
    {
     "data": {
      "image/png": "[encoded data removed]",
      "text/plain": [
       "<Figure size 720x360 with 2 Axes>"
      ]
     },
     "metadata": {
      "needs_background": "light"
     },
     "output_type": "display_data"
    }
   ],
   "source": [
    "plt.rcParams[\"figure.figsize\"] = (10, 5)\n",
    "plt.rcParams[\"font.family\"] = \"monaco\"\n",
    "plt.rcParams[\"font.size\"] = 12\n",
    "plt.rcParams[\"font.weight\"] = \"bold\"\n",
    "plt.subplot(1, 2, 1)\n",
    "plt.plot(fit_history.history[\"accuracy\"], label=\"train data\")\n",
    "plt.plot(fit_history.history[\"val_accuracy\"], label=\"test data\")\n",
    "plt.title(\"Accuracy\")\n",
    "plt.xlabel(\"Epoch\")\n",
    "plt.legend();\n",
    "plt.subplot(1, 2, 2)\n",
    "plt.plot(fit_history.history[\"loss\"], label=\"train data\")\n",
    "plt.plot(fit_history.history[\"val_loss\"], label=\"test data\")\n",
    "plt.title(\"Loss\")\n",
    "plt.xlabel(\"Epoch\")\n",
    "plt.legend();"
   ]
  },
  {
   "cell_type": "code",
   "execution_count": 20,
   "id": "2fae89d8",
   "metadata": {},
   "outputs": [
    {
     "data": {
      "text/html": [
       "<div>\n",
       "<style scoped>\n",
       "    .dataframe tbody tr th:only-of-type {\n",
       "        vertical-align: middle;\n",
       "    }\n",
       "\n",
       "    .dataframe tbody tr th {\n",
       "        vertical-align: top;\n",
       "    }\n",
       "\n",
       "    .dataframe thead th {\n",
       "        text-align: right;\n",
       "    }\n",
       "</style>\n",
       "<table border=\"1\" class=\"dataframe\">\n",
       "  <thead>\n",
       "    <tr style=\"text-align: right;\">\n",
       "      <th></th>\n",
       "      <th>loss</th>\n",
       "      <th>accuracy</th>\n",
       "      <th>val_loss</th>\n",
       "      <th>val_accuracy</th>\n",
       "    </tr>\n",
       "  </thead>\n",
       "  <tbody>\n",
       "    <tr>\n",
       "      <th>0</th>\n",
       "      <td>1.292263</td>\n",
       "      <td>0.524933</td>\n",
       "      <td>0.563633</td>\n",
       "      <td>0.778976</td>\n",
       "    </tr>\n",
       "    <tr>\n",
       "      <th>1</th>\n",
       "      <td>0.335391</td>\n",
       "      <td>0.886119</td>\n",
       "      <td>0.316920</td>\n",
       "      <td>0.873315</td>\n",
       "    </tr>\n",
       "    <tr>\n",
       "      <th>2</th>\n",
       "      <td>0.118407</td>\n",
       "      <td>0.961590</td>\n",
       "      <td>0.227132</td>\n",
       "      <td>0.935310</td>\n",
       "    </tr>\n",
       "    <tr>\n",
       "      <th>3</th>\n",
       "      <td>0.057119</td>\n",
       "      <td>0.983827</td>\n",
       "      <td>0.196694</td>\n",
       "      <td>0.935310</td>\n",
       "    </tr>\n",
       "    <tr>\n",
       "      <th>4</th>\n",
       "      <td>0.053168</td>\n",
       "      <td>0.984501</td>\n",
       "      <td>0.165818</td>\n",
       "      <td>0.948787</td>\n",
       "    </tr>\n",
       "    <tr>\n",
       "      <th>5</th>\n",
       "      <td>0.010638</td>\n",
       "      <td>0.999326</td>\n",
       "      <td>0.210122</td>\n",
       "      <td>0.921833</td>\n",
       "    </tr>\n",
       "    <tr>\n",
       "      <th>6</th>\n",
       "      <td>0.009430</td>\n",
       "      <td>0.997305</td>\n",
       "      <td>0.223509</td>\n",
       "      <td>0.943396</td>\n",
       "    </tr>\n",
       "    <tr>\n",
       "      <th>7</th>\n",
       "      <td>0.004272</td>\n",
       "      <td>0.999326</td>\n",
       "      <td>0.197119</td>\n",
       "      <td>0.946092</td>\n",
       "    </tr>\n",
       "    <tr>\n",
       "      <th>8</th>\n",
       "      <td>0.001898</td>\n",
       "      <td>1.000000</td>\n",
       "      <td>0.199276</td>\n",
       "      <td>0.951482</td>\n",
       "    </tr>\n",
       "    <tr>\n",
       "      <th>9</th>\n",
       "      <td>0.000759</td>\n",
       "      <td>1.000000</td>\n",
       "      <td>0.192188</td>\n",
       "      <td>0.956873</td>\n",
       "    </tr>\n",
       "  </tbody>\n",
       "</table>\n",
       "</div>"
      ],
      "text/plain": [
       "       loss  accuracy  val_loss  val_accuracy\n",
       "0  1.292263  0.524933  0.563633      0.778976\n",
       "1  0.335391  0.886119  0.316920      0.873315\n",
       "2  0.118407  0.961590  0.227132      0.935310\n",
       "3  0.057119  0.983827  0.196694      0.935310\n",
       "4  0.053168  0.984501  0.165818      0.948787\n",
       "5  0.010638  0.999326  0.210122      0.921833\n",
       "6  0.009430  0.997305  0.223509      0.943396\n",
       "7  0.004272  0.999326  0.197119      0.946092\n",
       "8  0.001898  1.000000  0.199276      0.951482\n",
       "9  0.000759  1.000000  0.192188      0.956873"
      ]
     },
     "execution_count": 20,
     "metadata": {},
     "output_type": "execute_result"
    }
   ],
   "source": [
    "df_metrics = pd.DataFrame(fit_history.history)\n",
    "df_metrics"
   ]
  },
  {
   "cell_type": "markdown",
   "id": "c5158266",
   "metadata": {
    "heading_collapsed": true
   },
   "source": [
    "## Prediction"
   ]
  },
  {
   "cell_type": "code",
   "execution_count": 21,
   "id": "537f56ba",
   "metadata": {
    "hidden": true
   },
   "outputs": [],
   "source": [
    "ypred = model.predict(xtest)"
   ]
  },
  {
   "cell_type": "code",
   "execution_count": 22,
   "id": "6129882e",
   "metadata": {
    "hidden": true
   },
   "outputs": [
    {
     "data": {
      "text/plain": [
       "array([3.4349014e-08, 9.9999678e-01, 1.2065103e-06, 1.9930123e-06],\n",
       "      dtype=float32)"
      ]
     },
     "execution_count": 22,
     "metadata": {},
     "output_type": "execute_result"
    }
   ],
   "source": [
    "ypred[0]"
   ]
  },
  {
   "cell_type": "code",
   "execution_count": 23,
   "id": "8aa743d7",
   "metadata": {
    "hidden": true
   },
   "outputs": [
    {
     "data": {
      "text/plain": [
       "1"
      ]
     },
     "execution_count": 23,
     "metadata": {},
     "output_type": "execute_result"
    }
   ],
   "source": [
    "ytest_true[0]"
   ]
  },
  {
   "cell_type": "code",
   "execution_count": 24,
   "id": "84a3f505",
   "metadata": {
    "hidden": true
   },
   "outputs": [
    {
     "data": {
      "text/plain": [
       "1"
      ]
     },
     "execution_count": 24,
     "metadata": {},
     "output_type": "execute_result"
    }
   ],
   "source": [
    "np.argmax(ypred[0])"
   ]
  },
  {
   "cell_type": "code",
   "execution_count": 25,
   "id": "96577a03",
   "metadata": {
    "hidden": true
   },
   "outputs": [
    {
     "data": {
      "text/plain": [
       "array([1, 3, 1, 3, 3, 2, 3, 1, 3, 2, 3, 3, 2, 0, 2, 3, 1, 3, 2, 3, 2, 1,\n",
       "       2, 1, 3, 1, 1, 1, 0, 2, 3, 2, 1, 1, 3, 0, 1, 3, 3, 0, 2, 0, 1, 3,\n",
       "       2, 2, 2, 1, 2, 1, 3, 0, 3, 0, 1, 2, 1, 0, 2, 0, 2, 3, 1, 0, 3, 0,\n",
       "       2, 2, 3, 2, 0, 1, 2, 3, 0, 0, 2, 0, 2, 1, 3, 3, 0, 2, 2, 2, 3, 1,\n",
       "       2, 3, 1, 3, 0, 3, 1, 3, 1, 0, 3, 1, 1, 2, 0, 2, 2, 1, 1, 2, 0, 3,\n",
       "       3, 2, 2, 0, 3, 3, 0, 0, 1, 2, 2, 3, 0, 0, 3, 2, 2, 3, 1, 3, 2, 2,\n",
       "       2, 2, 0, 0, 2, 0, 1, 1, 1, 2, 1, 0, 2, 1, 2, 3, 3, 0, 2, 1, 1, 3,\n",
       "       0, 2, 2, 2, 2, 3, 3, 0, 1, 1, 0, 3, 0, 0, 2, 3, 1, 1, 3, 1, 2, 2,\n",
       "       1, 0, 1, 2, 2, 1, 2, 0, 1, 1, 3, 1, 1, 0, 1, 1, 0, 3, 1, 1, 3, 3,\n",
       "       0, 3, 1, 2, 3, 3, 3, 2, 3, 3, 2, 2, 0, 0, 1, 0, 2, 3, 3, 0, 2, 2,\n",
       "       2, 2, 3, 2, 3, 0, 3, 0, 2, 3, 1, 0, 1, 0, 3, 2, 2, 1, 1, 0, 0, 0,\n",
       "       0, 0, 0, 3, 3, 3, 0, 0, 1, 2, 1, 2, 0, 1, 3, 2, 2, 0, 0, 0, 0, 3,\n",
       "       0, 1, 2, 1, 0, 0, 2, 2, 3, 0, 3, 3, 3, 2, 2, 3, 3, 3, 0, 1, 3, 3,\n",
       "       1, 2, 3, 2, 2, 1, 3, 3, 0, 1, 2, 3, 3, 1])"
      ]
     },
     "execution_count": 25,
     "metadata": {},
     "output_type": "execute_result"
    }
   ],
   "source": [
    "y_pred_labels = np.argmax(ypred, axis=1)\n",
    "y_pred_labels"
   ]
  },
  {
   "cell_type": "code",
   "execution_count": 26,
   "id": "2df362e8",
   "metadata": {
    "hidden": true
   },
   "outputs": [
    {
     "data": {
      "text/plain": [
       "array([1, 3, 1, 3, 3, 2, 3, 1, 3, 2, 3, 3, 2, 0, 2, 3, 3, 3, 2, 3, 2, 1,\n",
       "       2, 1, 3, 1, 1, 1, 0, 2, 3, 2, 1, 1, 3, 0, 3, 3, 3, 0, 2, 0, 1, 3,\n",
       "       2, 2, 2, 1, 2, 1, 1, 0, 2, 0, 1, 2, 1, 0, 2, 0, 2, 3, 1, 0, 3, 0,\n",
       "       2, 2, 3, 2, 0, 1, 2, 3, 0, 0, 2, 0, 2, 1, 3, 3, 0, 2, 2, 2, 3, 1,\n",
       "       2, 3, 1, 3, 0, 3, 1, 3, 1, 0, 3, 1, 1, 2, 0, 2, 2, 1, 1, 2, 0, 3,\n",
       "       3, 2, 2, 0, 3, 3, 0, 0, 1, 3, 2, 3, 0, 0, 3, 2, 2, 3, 1, 3, 2, 0,\n",
       "       2, 2, 0, 0, 2, 0, 1, 1, 1, 2, 1, 0, 2, 1, 2, 3, 3, 0, 2, 2, 1, 3,\n",
       "       0, 2, 2, 2, 2, 3, 3, 0, 1, 1, 0, 3, 0, 0, 2, 3, 1, 1, 3, 1, 2, 2,\n",
       "       0, 0, 1, 2, 2, 1, 2, 0, 1, 1, 3, 1, 1, 0, 1, 1, 0, 3, 1, 1, 1, 3,\n",
       "       0, 3, 1, 2, 3, 3, 3, 2, 3, 3, 2, 2, 0, 0, 1, 0, 2, 3, 3, 0, 2, 2,\n",
       "       0, 2, 3, 2, 3, 0, 3, 0, 2, 3, 1, 0, 1, 0, 3, 2, 2, 1, 1, 0, 0, 3,\n",
       "       0, 0, 0, 3, 3, 3, 0, 0, 1, 1, 1, 2, 0, 1, 3, 0, 2, 0, 0, 0, 0, 3,\n",
       "       0, 1, 2, 2, 0, 0, 2, 2, 3, 0, 3, 3, 3, 2, 2, 3, 3, 2, 0, 1, 3, 3,\n",
       "       1, 2, 3, 2, 2, 1, 3, 3, 0, 1, 2, 3, 3, 1])"
      ]
     },
     "execution_count": 26,
     "metadata": {},
     "output_type": "execute_result"
    }
   ],
   "source": [
    "ytest_true"
   ]
  },
  {
   "cell_type": "markdown",
   "id": "efddb107",
   "metadata": {
    "heading_collapsed": true
   },
   "source": [
    "## Create a confusion matrix"
   ]
  },
  {
   "cell_type": "code",
   "execution_count": 27,
   "id": "0dfc8032",
   "metadata": {
    "hidden": true
   },
   "outputs": [],
   "source": [
    "from sklearn.metrics import confusion_matrix, ConfusionMatrixDisplay"
   ]
  },
  {
   "cell_type": "code",
   "execution_count": 28,
   "id": "d95fafc0",
   "metadata": {
    "hidden": true
   },
   "outputs": [
    {
     "data": {
      "text/plain": [
       "<sklearn.metrics._plot.confusion_matrix.ConfusionMatrixDisplay at 0x7f8f41786550>"
      ]
     },
     "execution_count": 28,
     "metadata": {},
     "output_type": "execute_result"
    },
    {
     "data": {
      "image/png": "[encoded data removed]",
      "text/plain": [
       "<Figure size 576x576 with 2 Axes>"
      ]
     },
     "metadata": {
      "needs_background": "light"
     },
     "output_type": "display_data"
    }
   ],
   "source": [
    "plt.rcParams[\"figure.figsize\"] = (8, 8)\n",
    "\n",
    "cm = confusion_matrix(y_true=ytest_true, y_pred=y_pred_labels)\n",
    "disp = ConfusionMatrixDisplay(confusion_matrix=cm, display_labels=np.unique(ytest_true))\n",
    "disp.plot()"
   ]
  },
  {
   "cell_type": "code",
   "execution_count": 29,
   "id": "a7d05cf7",
   "metadata": {
    "hidden": true
   },
   "outputs": [
    {
     "data": {
      "text/plain": [
       "(300, 4)"
      ]
     },
     "execution_count": 29,
     "metadata": {},
     "output_type": "execute_result"
    }
   ],
   "source": [
    "ytest.shape"
   ]
  },
  {
   "cell_type": "code",
   "execution_count": 30,
   "id": "c768d780",
   "metadata": {
    "hidden": true
   },
   "outputs": [
    {
     "data": {
      "text/plain": [
       "0.95"
      ]
     },
     "execution_count": 30,
     "metadata": {},
     "output_type": "execute_result"
    }
   ],
   "source": [
    "(78 + 77 + 64 + 66)/300"
   ]
  },
  {
   "cell_type": "markdown",
   "id": "6c6fa010",
   "metadata": {},
   "source": [
    "# Another CNN ( More Filters in Conv & More Neurons in FCL)"
   ]
  },
  {
   "cell_type": "code",
   "execution_count": 9,
   "id": "e25aa59e",
   "metadata": {},
   "outputs": [],
   "source": [
    "from tensorflow.keras import backend as K\n",
    "K.clear_session()"
   ]
  },
  {
   "cell_type": "code",
   "execution_count": 10,
   "id": "36a7ea23",
   "metadata": {},
   "outputs": [],
   "source": [
    "model_new = Sequential([\n",
    "    \n",
    "    # first convolutional and max pooling layer\n",
    "    Conv2D(filters=7,\n",
    "          kernel_size=(5,5),\n",
    "          strides=(1, 1),\n",
    "          padding=\"valid\",\n",
    "          activation=\"relu\",\n",
    "          input_shape=(224, 224, 3)),\n",
    "    MaxPooling2D(pool_size=(2,2),\n",
    "                strides=(2, 2),\n",
    "                padding=\"valid\"),\n",
    "    #BatchNormalization(), # optional\n",
    "    \n",
    "    # Second convolutional and max pooling layer\n",
    "    Conv2D(filters=17,\n",
    "          kernel_size=(5,5),\n",
    "          strides=(1, 1),\n",
    "          padding=\"valid\",\n",
    "          activation=\"relu\"),\n",
    "    MaxPooling2D(pool_size=(2,2),\n",
    "                strides=(2,2),\n",
    "                padding=\"valid\"),\n",
    "    BatchNormalization(), # optional\n",
    "    \n",
    "    # Flatten\n",
    "    Flatten(),\n",
    "    \n",
    "    # Fully connected\n",
    "    # layer 1\n",
    "    Dense(120, activation=\"relu\"),\n",
    "    #Dropout(0.2), # optional\n",
    "    \n",
    "    # layer 2\n",
    "    Dense(90, activation=\"relu\"),\n",
    "    #Dropout(0.2), # optional\n",
    "    \n",
    "    # Output layer\n",
    "    Dense(4, activation=\"softmax\")\n",
    "])"
   ]
  },
  {
   "cell_type": "code",
   "execution_count": 11,
   "id": "e7259f00",
   "metadata": {},
   "outputs": [
    {
     "name": "stdout",
     "output_type": "stream",
     "text": [
      "Model: \"sequential\"\n",
      "_________________________________________________________________\n",
      "Layer (type)                 Output Shape              Param #   \n",
      "=================================================================\n",
      "conv2d (Conv2D)              (None, 220, 220, 7)       532       \n",
      "_________________________________________________________________\n",
      "max_pooling2d (MaxPooling2D) (None, 110, 110, 7)       0         \n",
      "_________________________________________________________________\n",
      "conv2d_1 (Conv2D)            (None, 106, 106, 17)      2992      \n",
      "_________________________________________________________________\n",
      "max_pooling2d_1 (MaxPooling2 (None, 53, 53, 17)        0         \n",
      "_________________________________________________________________\n",
      "batch_normalization (BatchNo (None, 53, 53, 17)        68        \n",
      "_________________________________________________________________\n",
      "flatten (Flatten)            (None, 47753)             0         \n",
      "_________________________________________________________________\n",
      "dense (Dense)                (None, 120)               5730480   \n",
      "_________________________________________________________________\n",
      "dense_1 (Dense)              (None, 90)                10890     \n",
      "_________________________________________________________________\n",
      "dense_2 (Dense)              (None, 4)                 364       \n",
      "=================================================================\n",
      "Total params: 5,745,326\n",
      "Trainable params: 5,745,292\n",
      "Non-trainable params: 34\n",
      "_________________________________________________________________\n"
     ]
    }
   ],
   "source": [
    "model_new.summary()"
   ]
  },
  {
   "cell_type": "code",
   "execution_count": 12,
   "id": "c7c877fc",
   "metadata": {},
   "outputs": [],
   "source": [
    "# Compile\n",
    "model_new.compile(optimizer=Adam(), \n",
    "              loss=\"categorical_crossentropy\", \n",
    "              metrics=[\"accuracy\"])"
   ]
  },
  {
   "cell_type": "code",
   "execution_count": 13,
   "id": "c904864e",
   "metadata": {},
   "outputs": [
    {
     "name": "stdout",
     "output_type": "stream",
     "text": [
      "Epoch 1/10\n",
      "47/47 [==============================] - 65s 1s/step - loss: 0.5551 - accuracy: 0.8255 - val_loss: 1.8895 - val_accuracy: 0.4313\n",
      "Epoch 2/10\n",
      "47/47 [==============================] - 53s 1s/step - loss: 0.3004 - accuracy: 0.9239 - val_loss: 0.9678 - val_accuracy: 0.6173\n",
      "Epoch 3/10\n",
      "47/47 [==============================] - 53s 1s/step - loss: 0.0778 - accuracy: 0.9751 - val_loss: 0.7852 - val_accuracy: 0.6739\n",
      "Epoch 4/10\n",
      "47/47 [==============================] - 53s 1s/step - loss: 0.0199 - accuracy: 0.9939 - val_loss: 0.4129 - val_accuracy: 0.8571\n",
      "Epoch 5/10\n",
      "47/47 [==============================] - 53s 1s/step - loss: 0.0158 - accuracy: 0.9960 - val_loss: 0.2498 - val_accuracy: 0.9380\n",
      "Epoch 6/10\n",
      "47/47 [==============================] - 53s 1s/step - loss: 0.0023 - accuracy: 0.9993 - val_loss: 1.1826 - val_accuracy: 0.6011\n",
      "Epoch 7/10\n",
      "47/47 [==============================] - 53s 1s/step - loss: 0.0393 - accuracy: 0.9858 - val_loss: 0.7729 - val_accuracy: 0.7305\n",
      "Epoch 8/10\n",
      "47/47 [==============================] - 53s 1s/step - loss: 0.0112 - accuracy: 0.9946 - val_loss: 0.3863 - val_accuracy: 0.8571\n",
      "Epoch 9/10\n",
      "47/47 [==============================] - 52s 1s/step - loss: 0.0107 - accuracy: 0.9973 - val_loss: 0.4786 - val_accuracy: 0.8032\n",
      "Epoch 10/10\n",
      "47/47 [==============================] - 52s 1s/step - loss: 0.0012 - accuracy: 1.0000 - val_loss: 0.3212 - val_accuracy: 0.9030\n"
     ]
    }
   ],
   "source": [
    "#fitting\n",
    "fit_hist = model_new.fit(xtrain, ytrain, batch_size=32, epochs=10, validation_split=0.2)"
   ]
  },
  {
   "cell_type": "code",
   "execution_count": 15,
   "id": "08d49ab4",
   "metadata": {},
   "outputs": [
    {
     "data": {
      "image/png": "[encoded data removed]",
      "text/plain": [
       "<Figure size 720x360 with 2 Axes>"
      ]
     },
     "metadata": {
      "needs_background": "light"
     },
     "output_type": "display_data"
    }
   ],
   "source": [
    "plt.rcParams[\"figure.figsize\"] = (10, 5)\n",
    "plt.rcParams[\"font.family\"] = \"monaco\"\n",
    "plt.rcParams[\"font.size\"] = 12\n",
    "plt.rcParams[\"font.weight\"] = \"bold\"\n",
    "plt.subplot(1, 2, 1)\n",
    "plt.plot(fit_hist.history[\"accuracy\"], label=\"train data\")\n",
    "plt.plot(fit_hist.history[\"val_accuracy\"], label=\"test data\")\n",
    "plt.title(\"Accuracy\")\n",
    "plt.xlabel(\"Epoch\")\n",
    "plt.legend();\n",
    "plt.subplot(1, 2, 2)\n",
    "plt.plot(fit_hist.history[\"loss\"], label=\"train data\")\n",
    "plt.plot(fit_hist.history[\"val_loss\"], label=\"test data\")\n",
    "plt.title(\"Loss\")\n",
    "plt.xlabel(\"Epoch\")\n",
    "plt.legend();"
   ]
  },
  {
   "cell_type": "code",
   "execution_count": 16,
   "id": "428bcad5",
   "metadata": {},
   "outputs": [
    {
     "data": {
      "text/html": [
       "<div>\n",
       "<style scoped>\n",
       "    .dataframe tbody tr th:only-of-type {\n",
       "        vertical-align: middle;\n",
       "    }\n",
       "\n",
       "    .dataframe tbody tr th {\n",
       "        vertical-align: top;\n",
       "    }\n",
       "\n",
       "    .dataframe thead th {\n",
       "        text-align: right;\n",
       "    }\n",
       "</style>\n",
       "<table border=\"1\" class=\"dataframe\">\n",
       "  <thead>\n",
       "    <tr style=\"text-align: right;\">\n",
       "      <th></th>\n",
       "      <th>loss</th>\n",
       "      <th>accuracy</th>\n",
       "      <th>val_loss</th>\n",
       "      <th>val_accuracy</th>\n",
       "    </tr>\n",
       "  </thead>\n",
       "  <tbody>\n",
       "    <tr>\n",
       "      <th>0</th>\n",
       "      <td>0.555072</td>\n",
       "      <td>0.825472</td>\n",
       "      <td>1.889504</td>\n",
       "      <td>0.431267</td>\n",
       "    </tr>\n",
       "    <tr>\n",
       "      <th>1</th>\n",
       "      <td>0.300372</td>\n",
       "      <td>0.923854</td>\n",
       "      <td>0.967850</td>\n",
       "      <td>0.617251</td>\n",
       "    </tr>\n",
       "    <tr>\n",
       "      <th>2</th>\n",
       "      <td>0.077846</td>\n",
       "      <td>0.975067</td>\n",
       "      <td>0.785237</td>\n",
       "      <td>0.673854</td>\n",
       "    </tr>\n",
       "    <tr>\n",
       "      <th>3</th>\n",
       "      <td>0.019945</td>\n",
       "      <td>0.993935</td>\n",
       "      <td>0.412920</td>\n",
       "      <td>0.857143</td>\n",
       "    </tr>\n",
       "    <tr>\n",
       "      <th>4</th>\n",
       "      <td>0.015803</td>\n",
       "      <td>0.995957</td>\n",
       "      <td>0.249818</td>\n",
       "      <td>0.938005</td>\n",
       "    </tr>\n",
       "    <tr>\n",
       "      <th>5</th>\n",
       "      <td>0.002283</td>\n",
       "      <td>0.999326</td>\n",
       "      <td>1.182642</td>\n",
       "      <td>0.601078</td>\n",
       "    </tr>\n",
       "    <tr>\n",
       "      <th>6</th>\n",
       "      <td>0.039334</td>\n",
       "      <td>0.985849</td>\n",
       "      <td>0.772886</td>\n",
       "      <td>0.730458</td>\n",
       "    </tr>\n",
       "    <tr>\n",
       "      <th>7</th>\n",
       "      <td>0.011247</td>\n",
       "      <td>0.994609</td>\n",
       "      <td>0.386262</td>\n",
       "      <td>0.857143</td>\n",
       "    </tr>\n",
       "    <tr>\n",
       "      <th>8</th>\n",
       "      <td>0.010719</td>\n",
       "      <td>0.997305</td>\n",
       "      <td>0.478605</td>\n",
       "      <td>0.803235</td>\n",
       "    </tr>\n",
       "    <tr>\n",
       "      <th>9</th>\n",
       "      <td>0.001180</td>\n",
       "      <td>1.000000</td>\n",
       "      <td>0.321210</td>\n",
       "      <td>0.902965</td>\n",
       "    </tr>\n",
       "  </tbody>\n",
       "</table>\n",
       "</div>"
      ],
      "text/plain": [
       "       loss  accuracy  val_loss  val_accuracy\n",
       "0  0.555072  0.825472  1.889504      0.431267\n",
       "1  0.300372  0.923854  0.967850      0.617251\n",
       "2  0.077846  0.975067  0.785237      0.673854\n",
       "3  0.019945  0.993935  0.412920      0.857143\n",
       "4  0.015803  0.995957  0.249818      0.938005\n",
       "5  0.002283  0.999326  1.182642      0.601078\n",
       "6  0.039334  0.985849  0.772886      0.730458\n",
       "7  0.011247  0.994609  0.386262      0.857143\n",
       "8  0.010719  0.997305  0.478605      0.803235\n",
       "9  0.001180  1.000000  0.321210      0.902965"
      ]
     },
     "execution_count": 16,
     "metadata": {},
     "output_type": "execute_result"
    }
   ],
   "source": [
    "df_metrics_new = pd.DataFrame(fit_hist.history)\n",
    "df_metrics_new"
   ]
  },
  {
   "cell_type": "markdown",
   "id": "1862c21d",
   "metadata": {},
   "source": [
    "**Worse results:** \n",
    "- Val-Accuracy down to 90%\n",
    "- val-loss up to 32%\n"
   ]
  },
  {
   "cell_type": "markdown",
   "id": "4646fd9a",
   "metadata": {},
   "source": [
    "# Third CNN (Changing epochs and adding drpout layer)"
   ]
  },
  {
   "cell_type": "code",
   "execution_count": 17,
   "id": "7e9a81df",
   "metadata": {},
   "outputs": [],
   "source": [
    "model_third = Sequential([\n",
    "    \n",
    "    # first convolutional and max pooling layer\n",
    "    Conv2D(filters=6,\n",
    "          kernel_size=(5,5),\n",
    "          strides=(1, 1),\n",
    "          padding=\"valid\",\n",
    "          activation=\"relu\",\n",
    "          input_shape=(224, 224, 3)),\n",
    "    MaxPooling2D(pool_size=(2,2),\n",
    "                strides=(2, 2),\n",
    "                padding=\"valid\"),\n",
    "    #BatchNormalization(), # optional\n",
    "    \n",
    "    # Second convolutional and max pooling layer\n",
    "    Conv2D(filters=16,\n",
    "          kernel_size=(5,5),\n",
    "          strides=(1, 1),\n",
    "          padding=\"valid\",\n",
    "          activation=\"relu\"),\n",
    "    MaxPooling2D(pool_size=(2,2),\n",
    "                strides=(2,2),\n",
    "                padding=\"valid\"),\n",
    "#     BatchNormalization(), # optional\n",
    "    \n",
    "    # Flatten\n",
    "    Flatten(),\n",
    "    \n",
    "    # Fully connected\n",
    "    # layer 1\n",
    "    Dense(120, activation=\"relu\"),\n",
    "    Dropout(0.2), # optional\n",
    "    \n",
    "    # layer 2\n",
    "    Dense(84, activation=\"relu\"),\n",
    "    Dropout(0.2), # optional\n",
    "    \n",
    "    # Output layer\n",
    "    Dense(4, activation=\"softmax\")\n",
    "])"
   ]
  },
  {
   "cell_type": "code",
   "execution_count": 18,
   "id": "39c88a96",
   "metadata": {},
   "outputs": [],
   "source": [
    "# Compile\n",
    "model_third.compile(optimizer=Adam(), \n",
    "              loss=\"categorical_crossentropy\", \n",
    "              metrics=[\"accuracy\"])"
   ]
  },
  {
   "cell_type": "code",
   "execution_count": 19,
   "id": "bb48a278",
   "metadata": {},
   "outputs": [
    {
     "name": "stdout",
     "output_type": "stream",
     "text": [
      "Epoch 1/15\n",
      "47/47 [==============================] - 76s 2s/step - loss: 0.7193 - accuracy: 0.7049 - val_loss: 0.3654 - val_accuracy: 0.8733\n",
      "Epoch 2/15\n",
      "47/47 [==============================] - 62s 1s/step - loss: 0.2615 - accuracy: 0.9063 - val_loss: 0.2120 - val_accuracy: 0.9299\n",
      "Epoch 3/15\n",
      "47/47 [==============================] - 60s 1s/step - loss: 0.1548 - accuracy: 0.9501 - val_loss: 0.2020 - val_accuracy: 0.9407\n",
      "Epoch 4/15\n",
      "47/47 [==============================] - 59s 1s/step - loss: 0.0710 - accuracy: 0.9805 - val_loss: 0.1663 - val_accuracy: 0.9596\n",
      "Epoch 5/15\n",
      "47/47 [==============================] - 58s 1s/step - loss: 0.0322 - accuracy: 0.9912 - val_loss: 0.1486 - val_accuracy: 0.9488\n",
      "Epoch 6/15\n",
      "47/47 [==============================] - 55s 1s/step - loss: 0.0512 - accuracy: 0.9858 - val_loss: 0.3018 - val_accuracy: 0.9111\n",
      "Epoch 7/15\n",
      "47/47 [==============================] - 55s 1s/step - loss: 0.0786 - accuracy: 0.9798 - val_loss: 0.1418 - val_accuracy: 0.9596\n",
      "Epoch 8/15\n",
      "47/47 [==============================] - 54s 1s/step - loss: 0.0351 - accuracy: 0.9919 - val_loss: 0.1882 - val_accuracy: 0.9569\n",
      "Epoch 9/15\n",
      "47/47 [==============================] - 54s 1s/step - loss: 0.0132 - accuracy: 0.9966 - val_loss: 0.1610 - val_accuracy: 0.9596\n",
      "Epoch 10/15\n",
      "47/47 [==============================] - 53s 1s/step - loss: 0.0224 - accuracy: 0.9939 - val_loss: 0.2941 - val_accuracy: 0.9299\n",
      "Epoch 11/15\n",
      "47/47 [==============================] - 58s 1s/step - loss: 0.0252 - accuracy: 0.9912 - val_loss: 0.1638 - val_accuracy: 0.9515\n",
      "Epoch 12/15\n",
      "47/47 [==============================] - 59s 1s/step - loss: 0.0108 - accuracy: 0.9966 - val_loss: 0.2507 - val_accuracy: 0.9407\n",
      "Epoch 13/15\n",
      "47/47 [==============================] - 60s 1s/step - loss: 0.0081 - accuracy: 0.9966 - val_loss: 0.1654 - val_accuracy: 0.9650\n",
      "Epoch 14/15\n",
      "47/47 [==============================] - 61s 1s/step - loss: 0.0179 - accuracy: 0.9946 - val_loss: 0.2215 - val_accuracy: 0.9596\n",
      "Epoch 15/15\n",
      "47/47 [==============================] - 59s 1s/step - loss: 0.0082 - accuracy: 0.9966 - val_loss: 0.1967 - val_accuracy: 0.9623\n"
     ]
    }
   ],
   "source": [
    "#fitting\n",
    "fit_hist_third = model_third.fit(xtrain, ytrain, batch_size=32, epochs=15, validation_split=0.2)"
   ]
  },
  {
   "cell_type": "code",
   "execution_count": 20,
   "id": "b5a8a312",
   "metadata": {},
   "outputs": [
    {
     "data": {
      "image/png": "[encoded data removed]",
      "text/plain": [
       "<Figure size 720x360 with 2 Axes>"
      ]
     },
     "metadata": {
      "needs_background": "light"
     },
     "output_type": "display_data"
    }
   ],
   "source": [
    "plt.rcParams[\"figure.figsize\"] = (10, 5)\n",
    "plt.rcParams[\"font.family\"] = \"monaco\"\n",
    "plt.rcParams[\"font.size\"] = 12\n",
    "plt.rcParams[\"font.weight\"] = \"bold\"\n",
    "plt.subplot(1, 2, 1)\n",
    "plt.plot(fit_hist_third.history[\"accuracy\"], label=\"train data\")\n",
    "plt.plot(fit_hist_third.history[\"val_accuracy\"], label=\"test data\")\n",
    "plt.title(\"Accuracy\")\n",
    "plt.xlabel(\"Epoch\")\n",
    "plt.legend();\n",
    "plt.subplot(1, 2, 2)\n",
    "plt.plot(fit_hist_third.history[\"loss\"], label=\"train data\")\n",
    "plt.plot(fit_hist_third.history[\"val_loss\"], label=\"test data\")\n",
    "plt.title(\"Loss\")\n",
    "plt.xlabel(\"Epoch\")\n",
    "plt.legend();"
   ]
  },
  {
   "cell_type": "code",
   "execution_count": 22,
   "id": "2ec6549b",
   "metadata": {},
   "outputs": [
    {
     "data": {
      "text/html": [
       "<div>\n",
       "<style scoped>\n",
       "    .dataframe tbody tr th:only-of-type {\n",
       "        vertical-align: middle;\n",
       "    }\n",
       "\n",
       "    .dataframe tbody tr th {\n",
       "        vertical-align: top;\n",
       "    }\n",
       "\n",
       "    .dataframe thead th {\n",
       "        text-align: right;\n",
       "    }\n",
       "</style>\n",
       "<table border=\"1\" class=\"dataframe\">\n",
       "  <thead>\n",
       "    <tr style=\"text-align: right;\">\n",
       "      <th></th>\n",
       "      <th>loss</th>\n",
       "      <th>accuracy</th>\n",
       "      <th>val_loss</th>\n",
       "      <th>val_accuracy</th>\n",
       "    </tr>\n",
       "  </thead>\n",
       "  <tbody>\n",
       "    <tr>\n",
       "      <th>0</th>\n",
       "      <td>0.719266</td>\n",
       "      <td>0.704852</td>\n",
       "      <td>0.365394</td>\n",
       "      <td>0.873315</td>\n",
       "    </tr>\n",
       "    <tr>\n",
       "      <th>1</th>\n",
       "      <td>0.261467</td>\n",
       "      <td>0.906334</td>\n",
       "      <td>0.212039</td>\n",
       "      <td>0.929919</td>\n",
       "    </tr>\n",
       "    <tr>\n",
       "      <th>2</th>\n",
       "      <td>0.154816</td>\n",
       "      <td>0.950135</td>\n",
       "      <td>0.201974</td>\n",
       "      <td>0.940701</td>\n",
       "    </tr>\n",
       "    <tr>\n",
       "      <th>3</th>\n",
       "      <td>0.070981</td>\n",
       "      <td>0.980458</td>\n",
       "      <td>0.166308</td>\n",
       "      <td>0.959569</td>\n",
       "    </tr>\n",
       "    <tr>\n",
       "      <th>4</th>\n",
       "      <td>0.032230</td>\n",
       "      <td>0.991240</td>\n",
       "      <td>0.148641</td>\n",
       "      <td>0.948787</td>\n",
       "    </tr>\n",
       "    <tr>\n",
       "      <th>5</th>\n",
       "      <td>0.051171</td>\n",
       "      <td>0.985849</td>\n",
       "      <td>0.301770</td>\n",
       "      <td>0.911051</td>\n",
       "    </tr>\n",
       "    <tr>\n",
       "      <th>6</th>\n",
       "      <td>0.078631</td>\n",
       "      <td>0.979784</td>\n",
       "      <td>0.141815</td>\n",
       "      <td>0.959569</td>\n",
       "    </tr>\n",
       "    <tr>\n",
       "      <th>7</th>\n",
       "      <td>0.035069</td>\n",
       "      <td>0.991914</td>\n",
       "      <td>0.188225</td>\n",
       "      <td>0.956873</td>\n",
       "    </tr>\n",
       "    <tr>\n",
       "      <th>8</th>\n",
       "      <td>0.013196</td>\n",
       "      <td>0.996631</td>\n",
       "      <td>0.161029</td>\n",
       "      <td>0.959569</td>\n",
       "    </tr>\n",
       "    <tr>\n",
       "      <th>9</th>\n",
       "      <td>0.022444</td>\n",
       "      <td>0.993935</td>\n",
       "      <td>0.294109</td>\n",
       "      <td>0.929919</td>\n",
       "    </tr>\n",
       "    <tr>\n",
       "      <th>10</th>\n",
       "      <td>0.025227</td>\n",
       "      <td>0.991240</td>\n",
       "      <td>0.163830</td>\n",
       "      <td>0.951482</td>\n",
       "    </tr>\n",
       "    <tr>\n",
       "      <th>11</th>\n",
       "      <td>0.010782</td>\n",
       "      <td>0.996631</td>\n",
       "      <td>0.250717</td>\n",
       "      <td>0.940701</td>\n",
       "    </tr>\n",
       "    <tr>\n",
       "      <th>12</th>\n",
       "      <td>0.008093</td>\n",
       "      <td>0.996631</td>\n",
       "      <td>0.165436</td>\n",
       "      <td>0.964960</td>\n",
       "    </tr>\n",
       "    <tr>\n",
       "      <th>13</th>\n",
       "      <td>0.017851</td>\n",
       "      <td>0.994609</td>\n",
       "      <td>0.221478</td>\n",
       "      <td>0.959569</td>\n",
       "    </tr>\n",
       "    <tr>\n",
       "      <th>14</th>\n",
       "      <td>0.008156</td>\n",
       "      <td>0.996631</td>\n",
       "      <td>0.196665</td>\n",
       "      <td>0.962264</td>\n",
       "    </tr>\n",
       "  </tbody>\n",
       "</table>\n",
       "</div>"
      ],
      "text/plain": [
       "        loss  accuracy  val_loss  val_accuracy\n",
       "0   0.719266  0.704852  0.365394      0.873315\n",
       "1   0.261467  0.906334  0.212039      0.929919\n",
       "2   0.154816  0.950135  0.201974      0.940701\n",
       "3   0.070981  0.980458  0.166308      0.959569\n",
       "4   0.032230  0.991240  0.148641      0.948787\n",
       "5   0.051171  0.985849  0.301770      0.911051\n",
       "6   0.078631  0.979784  0.141815      0.959569\n",
       "7   0.035069  0.991914  0.188225      0.956873\n",
       "8   0.013196  0.996631  0.161029      0.959569\n",
       "9   0.022444  0.993935  0.294109      0.929919\n",
       "10  0.025227  0.991240  0.163830      0.951482\n",
       "11  0.010782  0.996631  0.250717      0.940701\n",
       "12  0.008093  0.996631  0.165436      0.964960\n",
       "13  0.017851  0.994609  0.221478      0.959569\n",
       "14  0.008156  0.996631  0.196665      0.962264"
      ]
     },
     "execution_count": 22,
     "metadata": {},
     "output_type": "execute_result"
    }
   ],
   "source": [
    "df_metrics_third = pd.DataFrame(fit_hist_third.history)\n",
    "df_metrics_third"
   ]
  },
  {
   "cell_type": "markdown",
   "id": "a67cf9fd",
   "metadata": {},
   "source": [
    "**Same results like the main CNN**: \n",
    "- Val - Accuracy: 96%\n",
    "- Val-loss: 20 % (1% increase)\n"
   ]
  },
  {
   "cell_type": "markdown",
   "id": "71e776cc",
   "metadata": {},
   "source": [
    "# 4th Modification (Adding Early Stop)"
   ]
  },
  {
   "cell_type": "code",
   "execution_count": 23,
   "id": "5649dbb6",
   "metadata": {},
   "outputs": [],
   "source": [
    "model_4th = Sequential([\n",
    "    \n",
    "    # first convolutional and max pooling layer\n",
    "    Conv2D(filters=6,\n",
    "          kernel_size=(5,5),\n",
    "          strides=(1, 1),\n",
    "          padding=\"valid\",\n",
    "          activation=\"relu\",\n",
    "          input_shape=(224, 224, 3)),\n",
    "    MaxPooling2D(pool_size=(2,2),\n",
    "                strides=(2, 2),\n",
    "                padding=\"valid\"),\n",
    "    #BatchNormalization(), # optional\n",
    "    \n",
    "    # Second convolutional and max pooling layer\n",
    "    Conv2D(filters=16,\n",
    "          kernel_size=(5,5),\n",
    "          strides=(1, 1),\n",
    "          padding=\"valid\",\n",
    "          activation=\"relu\"),\n",
    "    MaxPooling2D(pool_size=(2,2),\n",
    "                strides=(2,2),\n",
    "                padding=\"valid\"),\n",
    "#     BatchNormalization(), # optional\n",
    "    \n",
    "    # Flatten\n",
    "    Flatten(),\n",
    "    \n",
    "    # Fully connected\n",
    "    # layer 1\n",
    "    Dense(120, activation=\"relu\"),\n",
    "    Dropout(0.2), # optional\n",
    "    \n",
    "    # layer 2\n",
    "    Dense(84, activation=\"relu\"),\n",
    "    Dropout(0.2), # optional\n",
    "    \n",
    "    # Output layer\n",
    "    Dense(4, activation=\"softmax\")\n",
    "])"
   ]
  },
  {
   "cell_type": "code",
   "execution_count": 24,
   "id": "cd9c3271",
   "metadata": {},
   "outputs": [],
   "source": [
    "# Compile\n",
    "model_4th.compile(optimizer=Adam(), \n",
    "              loss=\"categorical_crossentropy\", \n",
    "              metrics=[\"accuracy\"])"
   ]
  },
  {
   "cell_type": "code",
   "execution_count": 25,
   "id": "85f24db4",
   "metadata": {},
   "outputs": [
    {
     "name": "stdout",
     "output_type": "stream",
     "text": [
      "Epoch 1/15\n",
      "47/47 [==============================] - 76s 2s/step - loss: 1.0800 - accuracy: 0.5115 - val_loss: 0.4699 - val_accuracy: 0.8544\n",
      "Epoch 2/15\n",
      "47/47 [==============================] - 54s 1s/step - loss: 0.3841 - accuracy: 0.8605 - val_loss: 0.4349 - val_accuracy: 0.8113\n",
      "Epoch 3/15\n",
      "47/47 [==============================] - 53s 1s/step - loss: 0.2745 - accuracy: 0.9090 - val_loss: 0.2070 - val_accuracy: 0.9515\n",
      "Epoch 4/15\n",
      "47/47 [==============================] - 52s 1s/step - loss: 0.1629 - accuracy: 0.9495 - val_loss: 0.2480 - val_accuracy: 0.9245\n",
      "Epoch 5/15\n",
      "47/47 [==============================] - 47s 1s/step - loss: 0.0725 - accuracy: 0.9744 - val_loss: 0.1659 - val_accuracy: 0.9515\n",
      "Epoch 6/15\n",
      "47/47 [==============================] - 47s 1s/step - loss: 0.0660 - accuracy: 0.9764 - val_loss: 0.1277 - val_accuracy: 0.9623\n",
      "Epoch 7/15\n",
      "47/47 [==============================] - 48s 1s/step - loss: 0.0390 - accuracy: 0.9879 - val_loss: 0.2827 - val_accuracy: 0.9245\n",
      "Epoch 8/15\n",
      "47/47 [==============================] - 47s 1s/step - loss: 0.0430 - accuracy: 0.9858 - val_loss: 0.1399 - val_accuracy: 0.9569\n",
      "Epoch 9/15\n",
      "47/47 [==============================] - 48s 1s/step - loss: 0.0393 - accuracy: 0.9879 - val_loss: 0.1597 - val_accuracy: 0.9515\n",
      "Epoch 10/15\n",
      "47/47 [==============================] - 48s 1s/step - loss: 0.0287 - accuracy: 0.9899 - val_loss: 0.1435 - val_accuracy: 0.9461\n",
      "Epoch 11/15\n",
      "47/47 [==============================] - 49s 1s/step - loss: 0.0084 - accuracy: 0.9993 - val_loss: 0.1641 - val_accuracy: 0.9488\n"
     ]
    }
   ],
   "source": [
    "#fitting\n",
    "\n",
    "from tensorflow.keras.callbacks import EarlyStopping\n",
    "\n",
    "callback = EarlyStopping(monitor='val_loss', patience=5, restore_best_weights=True)\n",
    "fit_hist_4th = model_4th.fit(xtrain, ytrain, batch_size=32, epochs=15, callbacks=[callback], validation_split=0.2)"
   ]
  },
  {
   "cell_type": "code",
   "execution_count": 26,
   "id": "9d391fb4",
   "metadata": {},
   "outputs": [
    {
     "data": {
      "image/png": "[encoded data removed]",
      "text/plain": [
       "<Figure size 720x360 with 2 Axes>"
      ]
     },
     "metadata": {
      "needs_background": "light"
     },
     "output_type": "display_data"
    }
   ],
   "source": [
    "plt.rcParams[\"figure.figsize\"] = (10, 5)\n",
    "plt.rcParams[\"font.family\"] = \"monaco\"\n",
    "plt.rcParams[\"font.size\"] = 12\n",
    "plt.rcParams[\"font.weight\"] = \"bold\"\n",
    "plt.subplot(1, 2, 1)\n",
    "plt.plot(fit_hist_4th.history[\"accuracy\"], label=\"train data\")\n",
    "plt.plot(fit_hist_4th.history[\"val_accuracy\"], label=\"test data\")\n",
    "plt.title(\"Accuracy\")\n",
    "plt.xlabel(\"Epoch\")\n",
    "plt.legend();\n",
    "plt.subplot(1, 2, 2)\n",
    "plt.plot(fit_hist_4th.history[\"loss\"], label=\"train data\")\n",
    "plt.plot(fit_hist_4th.history[\"val_loss\"], label=\"test data\")\n",
    "plt.title(\"Loss\")\n",
    "plt.xlabel(\"Epoch\")\n",
    "plt.legend();"
   ]
  },
  {
   "cell_type": "code",
   "execution_count": 27,
   "id": "105eeef1",
   "metadata": {},
   "outputs": [
    {
     "data": {
      "text/html": [
       "<div>\n",
       "<style scoped>\n",
       "    .dataframe tbody tr th:only-of-type {\n",
       "        vertical-align: middle;\n",
       "    }\n",
       "\n",
       "    .dataframe tbody tr th {\n",
       "        vertical-align: top;\n",
       "    }\n",
       "\n",
       "    .dataframe thead th {\n",
       "        text-align: right;\n",
       "    }\n",
       "</style>\n",
       "<table border=\"1\" class=\"dataframe\">\n",
       "  <thead>\n",
       "    <tr style=\"text-align: right;\">\n",
       "      <th></th>\n",
       "      <th>loss</th>\n",
       "      <th>accuracy</th>\n",
       "      <th>val_loss</th>\n",
       "      <th>val_accuracy</th>\n",
       "    </tr>\n",
       "  </thead>\n",
       "  <tbody>\n",
       "    <tr>\n",
       "      <th>0</th>\n",
       "      <td>1.079975</td>\n",
       "      <td>0.511456</td>\n",
       "      <td>0.469867</td>\n",
       "      <td>0.854447</td>\n",
       "    </tr>\n",
       "    <tr>\n",
       "      <th>1</th>\n",
       "      <td>0.384096</td>\n",
       "      <td>0.860512</td>\n",
       "      <td>0.434883</td>\n",
       "      <td>0.811321</td>\n",
       "    </tr>\n",
       "    <tr>\n",
       "      <th>2</th>\n",
       "      <td>0.274549</td>\n",
       "      <td>0.909030</td>\n",
       "      <td>0.207001</td>\n",
       "      <td>0.951482</td>\n",
       "    </tr>\n",
       "    <tr>\n",
       "      <th>3</th>\n",
       "      <td>0.162942</td>\n",
       "      <td>0.949461</td>\n",
       "      <td>0.247958</td>\n",
       "      <td>0.924528</td>\n",
       "    </tr>\n",
       "    <tr>\n",
       "      <th>4</th>\n",
       "      <td>0.072457</td>\n",
       "      <td>0.974394</td>\n",
       "      <td>0.165874</td>\n",
       "      <td>0.951482</td>\n",
       "    </tr>\n",
       "    <tr>\n",
       "      <th>5</th>\n",
       "      <td>0.065999</td>\n",
       "      <td>0.976415</td>\n",
       "      <td>0.127685</td>\n",
       "      <td>0.962264</td>\n",
       "    </tr>\n",
       "    <tr>\n",
       "      <th>6</th>\n",
       "      <td>0.038970</td>\n",
       "      <td>0.987871</td>\n",
       "      <td>0.282740</td>\n",
       "      <td>0.924528</td>\n",
       "    </tr>\n",
       "    <tr>\n",
       "      <th>7</th>\n",
       "      <td>0.043035</td>\n",
       "      <td>0.985849</td>\n",
       "      <td>0.139877</td>\n",
       "      <td>0.956873</td>\n",
       "    </tr>\n",
       "    <tr>\n",
       "      <th>8</th>\n",
       "      <td>0.039313</td>\n",
       "      <td>0.987871</td>\n",
       "      <td>0.159656</td>\n",
       "      <td>0.951482</td>\n",
       "    </tr>\n",
       "    <tr>\n",
       "      <th>9</th>\n",
       "      <td>0.028673</td>\n",
       "      <td>0.989892</td>\n",
       "      <td>0.143462</td>\n",
       "      <td>0.946092</td>\n",
       "    </tr>\n",
       "    <tr>\n",
       "      <th>10</th>\n",
       "      <td>0.008413</td>\n",
       "      <td>0.999326</td>\n",
       "      <td>0.164070</td>\n",
       "      <td>0.948787</td>\n",
       "    </tr>\n",
       "  </tbody>\n",
       "</table>\n",
       "</div>"
      ],
      "text/plain": [
       "        loss  accuracy  val_loss  val_accuracy\n",
       "0   1.079975  0.511456  0.469867      0.854447\n",
       "1   0.384096  0.860512  0.434883      0.811321\n",
       "2   0.274549  0.909030  0.207001      0.951482\n",
       "3   0.162942  0.949461  0.247958      0.924528\n",
       "4   0.072457  0.974394  0.165874      0.951482\n",
       "5   0.065999  0.976415  0.127685      0.962264\n",
       "6   0.038970  0.987871  0.282740      0.924528\n",
       "7   0.043035  0.985849  0.139877      0.956873\n",
       "8   0.039313  0.987871  0.159656      0.951482\n",
       "9   0.028673  0.989892  0.143462      0.946092\n",
       "10  0.008413  0.999326  0.164070      0.948787"
      ]
     },
     "execution_count": 27,
     "metadata": {},
     "output_type": "execute_result"
    }
   ],
   "source": [
    "df_metrics_4th = pd.DataFrame(fit_hist_4th.history)\n",
    "df_metrics_4th"
   ]
  },
  {
   "cell_type": "markdown",
   "id": "e2c0b1d9",
   "metadata": {},
   "source": [
    "**Nice trade off**: \n",
    "- Val - Accuracy(TP): 95% (1 % decrease)\n",
    "- Val-loss(FP): 16 % (4% decrease)\n"
   ]
  },
  {
   "cell_type": "code",
   "execution_count": null,
   "id": "656f5df2",
   "metadata": {},
   "outputs": [],
   "source": []
  }
 ],
 "metadata": {
  "kernelspec": {
   "display_name": "Python 3 (ipykernel)",
   "language": "python",
   "name": "python3"
  },
  "language_info": {
   "codemirror_mode": {
    "name": "ipython",
    "version": 3
   },
   "file_extension": ".py",
   "mimetype": "text/x-python",
   "name": "python",
   "nbconvert_exporter": "python",
   "pygments_lexer": "ipython3",
   "version": "3.9.12"
  },
  "toc": {
   "base_numbering": 1,
   "nav_menu": {},
   "number_sections": true,
   "sideBar": true,
   "skip_h1_title": false,
   "title_cell": "Table of Contents",
   "title_sidebar": "Contents",
   "toc_cell": false,
   "toc_position": {},
   "toc_section_display": true,
   "toc_window_display": false
  }
 },
 "nbformat": 4,
 "nbformat_minor": 5
}
